{
 "cells": [
  {
   "cell_type": "code",
   "execution_count": 3,
   "id": "ae73a1b5",
   "metadata": {},
   "outputs": [],
   "source": [
    "import pandas as pd\n",
    "from docx import Document"
   ]
  },
  {
   "cell_type": "code",
   "execution_count": 5,
   "id": "b2f33f21",
   "metadata": {},
   "outputs": [],
   "source": [
    "filename = 'xx.docx'\n",
    "\n",
    "document = Document(filename)\n",
    "\n",
    "tables = document.tables"
   ]
  },
  {
   "cell_type": "code",
   "execution_count": 6,
   "id": "19d6f615",
   "metadata": {},
   "outputs": [],
   "source": [
    "my_document = '''<!DOCTYPE html><html><head>\n",
    "                    <title>Таблицы из файла ''' + filename + '''</title>\n",
    "                    </head><body>'''"
   ]
  },
  {
   "cell_type": "code",
   "execution_count": 7,
   "id": "05069e50",
   "metadata": {},
   "outputs": [],
   "source": [
    "for table_idx, table in enumerate(tables):\n",
    "    # Начало таблицы, тэг table\n",
    "    my_table = \"<table class='word-table' id='\" + filename + \"-Table\" + str(table_idx) + \"'>\"\n",
    "    \n",
    "    # Цикл по каждому ряду\n",
    "    for row_idx, row in enumerate(table.rows):\n",
    "        # Добавляем тэг tr для ряда\n",
    "        my_row = \"<tr>\"\n",
    "        \n",
    "        # Цикл по каждой ячейке в ряду\n",
    "        for cell in row.cells:\n",
    "            my_cell = \"\"\n",
    "            for paragraph in cell.paragraphs:\n",
    "                my_cell = my_cell + paragraph.text\n",
    "\n",
    "            if row_idx == 0:\n",
    "                my_row = my_row + \"<th>\"+my_cell+\"</th>\"\n",
    "            else:\n",
    "                my_row = my_row + \"<td>\"+my_cell+\"</td>\"\n",
    "        \n",
    "        # Закочим ряд закрывающим тэгом /tr\n",
    "        my_row = my_row + \"</tr>\"\n",
    "        \n",
    "        # Добавим строку к таблице\n",
    "        my_table = my_table + my_row\n",
    "        \n",
    "    # Закончим таблицу закрывающим тэгом table\n",
    "    my_table = my_table + \"</table>\\n\\n\"\n",
    "    \n",
    "    # Добавляем таблицу в наш HTML документ\n",
    "    my_document = my_document + my_table\n",
    "\n",
    "# Завершаем HTML документ закрывающими тэгами\n",
    "my_document = my_document + '</table></body></html>'"
   ]
  },
  {
   "cell_type": "code",
   "execution_count": null,
   "id": "2227f88a",
   "metadata": {},
   "outputs": [],
   "source": []
  }
 ],
 "metadata": {
  "kernelspec": {
   "display_name": "Python 3 (ipykernel)",
   "language": "python",
   "name": "python3"
  },
  "language_info": {
   "codemirror_mode": {
    "name": "ipython",
    "version": 3
   },
   "file_extension": ".py",
   "mimetype": "text/x-python",
   "name": "python",
   "nbconvert_exporter": "python",
   "pygments_lexer": "ipython3",
   "version": "3.11.2"
  }
 },
 "nbformat": 4,
 "nbformat_minor": 5
}
